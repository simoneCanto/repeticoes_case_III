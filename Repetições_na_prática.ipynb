{
  "nbformat": 4,
  "nbformat_minor": 0,
  "metadata": {
    "colab": {
      "provenance": [],
      "include_colab_link": true
    },
    "kernelspec": {
      "name": "python3",
      "display_name": "Python 3"
    },
    "language_info": {
      "name": "python"
    }
  },
  "cells": [
    {
      "cell_type": "markdown",
      "metadata": {
        "id": "view-in-github",
        "colab_type": "text"
      },
      "source": [
        "<a href=\"https://colab.research.google.com/github/simoneCanto/repeticoes_case_III/blob/main/Repeti%C3%A7%C3%B5es_na_pr%C3%A1tica.ipynb\" target=\"_parent\"><img src=\"https://colab.research.google.com/assets/colab-badge.svg\" alt=\"Open In Colab\"/></a>"
      ]
    },
    {
      "cell_type": "markdown",
      "metadata": {
        "id": "vmOiyAlWk7HR"
      },
      "source": [
        "# Repetições (loops)\n",
        "\n",
        "As repetições são usadas para executarmos alguma ação por várias vezes seguidas."
      ]
    },
    {
      "cell_type": "markdown",
      "metadata": {
        "id": "bcRKHwmqlMbU"
      },
      "source": [
        "## for\n",
        "\n",
        "O `for` é utilizado quando queremos executar uma ação uma determinada quantidade de vezes."
      ]
    },
    {
      "cell_type": "markdown",
      "metadata": {
        "id": "V02UrCnblc0H"
      },
      "source": [
        "<h2> Estrutura do for </h2>\n",
        "\n",
        "```\n",
        "passo = range(ini,fim)\n",
        "for i in passo:\n",
        "  print('Bloco de repetição')\n",
        "```\n",
        "Temos que determinar um início e um fim para o for, que irá determinar a quantidade de vezes que a ação repetida será feita.\n",
        "\n",
        "<h3> Exemplo 1 </h3>\n",
        "\n",
        "Imprima \"Olá\" cinco vezes seguidas."
      ]
    },
    {
      "cell_type": "code",
      "metadata": {
        "colab": {
          "base_uri": "https://localhost:8080/"
        },
        "id": "qrUhoWGolY3q",
        "outputId": "c580318d-e8a0-4d4a-d480-e0b2f5aa48b5"
      },
      "source": [
        "# definindo o passo\n",
        "passo = range(1,5)\n",
        "\n",
        "# usando o for\n",
        "for i in passo:\n",
        "  print('Olá')\n"
      ],
      "execution_count": null,
      "outputs": [
        {
          "output_type": "stream",
          "name": "stdout",
          "text": [
            "Olá\n",
            "Olá\n",
            "Olá\n",
            "Olá\n"
          ]
        }
      ]
    },
    {
      "cell_type": "markdown",
      "metadata": {
        "id": "YEFw5Js1mdn0"
      },
      "source": [
        "Repare que no exemplo acima foram impressos somente quatro \"Olá\"s ao invés de cinco. No **Python** ele sempre percorre do número inicial até o último número antes do final... portanto ele executará:\n",
        "\n",
        "1 - 2 - 3 - 4 - <s>5</s>\n",
        "\n",
        "<h3> Vamos ver em ação? </h3>"
      ]
    },
    {
      "cell_type": "code",
      "metadata": {
        "colab": {
          "base_uri": "https://localhost:8080/"
        },
        "id": "mZPgac0gnAGw",
        "outputId": "e764ef4c-35b9-4a92-d967-366e83c5005a"
      },
      "source": [
        "passo = range(1,5+1)\n",
        "for i in passo:\n",
        "  print('i = {} - Olá'.format(i))\n"
      ],
      "execution_count": null,
      "outputs": [
        {
          "output_type": "stream",
          "name": "stdout",
          "text": [
            "i = 1 - Olá\n",
            "i = 2 - Olá\n",
            "i = 3 - Olá\n",
            "i = 4 - Olá\n",
            "i = 5 - Olá\n"
          ]
        }
      ]
    },
    {
      "cell_type": "markdown",
      "metadata": {
        "id": "DGfOsqeSnWln"
      },
      "source": [
        "Então para executarmos 5 vezes é comum somar 1 no ponto final"
      ]
    },
    {
      "cell_type": "code",
      "metadata": {
        "colab": {
          "base_uri": "https://localhost:8080/"
        },
        "id": "VMVmqohtna8s",
        "outputId": "4ffc9c01-576a-400b-cacd-8458d5442704"
      },
      "source": [
        "passo = range(1,5+1)\n",
        "for i in passo:\n",
        "  print('Passo = {} - Olá'.format(i))"
      ],
      "execution_count": null,
      "outputs": [
        {
          "output_type": "stream",
          "name": "stdout",
          "text": [
            "Passo = 1 - Olá\n",
            "Passo = 2 - Olá\n",
            "Passo = 3 - Olá\n",
            "Passo = 4 - Olá\n",
            "Passo = 5 - Olá\n"
          ]
        }
      ]
    },
    {
      "cell_type": "markdown",
      "metadata": {
        "id": "lBLQEda-nk25"
      },
      "source": [
        "<h2> Exemplo 2 </h2>\n",
        "\n",
        "Ler um livro de 20 páginas"
      ]
    },
    {
      "cell_type": "code",
      "metadata": {
        "colab": {
          "base_uri": "https://localhost:8080/"
        },
        "id": "bzaGzrJIn4Pf",
        "outputId": "d946deef-1238-47e3-f248-d3d3fb6e3126"
      },
      "source": [
        "passo = range(1,20 + 1)\n",
        "\n",
        "for i in passo:\n",
        "  print('Leia a página: {}'.format(i))\n",
        "print('FIM')\n"
      ],
      "execution_count": null,
      "outputs": [
        {
          "output_type": "stream",
          "name": "stdout",
          "text": [
            "Leia a página: 1\n",
            "Leia a página: 2\n",
            "Leia a página: 3\n",
            "Leia a página: 4\n",
            "Leia a página: 5\n",
            "Leia a página: 6\n",
            "Leia a página: 7\n",
            "Leia a página: 8\n",
            "Leia a página: 9\n",
            "Leia a página: 10\n",
            "Leia a página: 11\n",
            "Leia a página: 12\n",
            "Leia a página: 13\n",
            "Leia a página: 14\n",
            "Leia a página: 15\n",
            "Leia a página: 16\n",
            "Leia a página: 17\n",
            "Leia a página: 18\n",
            "Leia a página: 19\n",
            "Leia a página: 20\n",
            "FIM\n"
          ]
        }
      ]
    },
    {
      "cell_type": "markdown",
      "metadata": {
        "id": "NAvzfc_RoWtZ"
      },
      "source": [
        "<h2> Exemplo 3 </h2>\n",
        "\n",
        "Some 5 números digitados pelo usuário."
      ]
    },
    {
      "cell_type": "code",
      "metadata": {
        "colab": {
          "base_uri": "https://localhost:8080/"
        },
        "id": "scbOGzp5ouHo",
        "outputId": "5d75f34e-a468-4d8d-fccd-7900ff29ced4"
      },
      "source": [
        "passo = range(1,5 + 1)\n",
        "\n",
        "soma = 0\n",
        "for i in passo:\n",
        "  n = int(input('digite um valor: '))\n",
        "  soma = soma + n\n",
        "print('A soma total é de {}'.format(soma))"
      ],
      "execution_count": null,
      "outputs": [
        {
          "output_type": "stream",
          "name": "stdout",
          "text": [
            "digite um valor: 1\n",
            "digite um valor: 2\n",
            "digite um valor: 4\n",
            "digite um valor: 3\n",
            "digite um valor: 5\n",
            "A soma total é de 15\n"
          ]
        }
      ]
    },
    {
      "cell_type": "markdown",
      "metadata": {
        "id": "yvkH4EatpD7k"
      },
      "source": [
        "### Modificando o range\n",
        "\n",
        "O range tradicional vai aumentando de 1 em 1 dentro do for, porém podemos configurar para aumentar da maneira que quisermos."
      ]
    },
    {
      "cell_type": "markdown",
      "metadata": {
        "id": "c-vbKqjOpUoD"
      },
      "source": [
        "<h2> Estrutura do passo </h2>\n",
        "\n",
        "```\n",
        "range(inicio, fim, passo)\n",
        "```\n",
        "\n",
        "* início: número inicial do range\n",
        "* fim: número final do range\n",
        "* passo: de quanto em quanto o valor será incrementado\n"
      ]
    },
    {
      "cell_type": "markdown",
      "metadata": {
        "id": "02WcfgvtqK5L"
      },
      "source": [
        "<h3> Exemplo 1 </h3>\n",
        "\n",
        "range(0,10,2)"
      ]
    },
    {
      "cell_type": "code",
      "metadata": {
        "colab": {
          "base_uri": "https://localhost:8080/"
        },
        "id": "mzB0T8eqqR3c",
        "outputId": "c50750ca-918b-4424-b9b0-f0b8df6c7415"
      },
      "source": [
        "passo = range(0,20,3)\n",
        "\n",
        "for i in passo:\n",
        "  print(i)\n",
        "print('FIM')"
      ],
      "execution_count": null,
      "outputs": [
        {
          "output_type": "stream",
          "name": "stdout",
          "text": [
            "0\n",
            "3\n",
            "6\n",
            "9\n",
            "12\n",
            "15\n",
            "18\n",
            "FIM\n"
          ]
        }
      ]
    },
    {
      "cell_type": "markdown",
      "metadata": {
        "id": "7afcILRKqr2O"
      },
      "source": [
        "<h3> Exemplo 2 </h3>\n",
        "\n",
        "range(10,1,-1)"
      ]
    },
    {
      "cell_type": "code",
      "metadata": {
        "colab": {
          "base_uri": "https://localhost:8080/"
        },
        "id": "Swlil-DQqzjP",
        "outputId": "0e7b9d99-bce2-490b-b364-eb7059680360"
      },
      "source": [
        "passo = range(10,0-1,-1)\n",
        "\n",
        "for i in passo:\n",
        "  print(i)"
      ],
      "execution_count": null,
      "outputs": [
        {
          "output_type": "stream",
          "name": "stdout",
          "text": [
            "10\n",
            "9\n",
            "8\n",
            "7\n",
            "6\n",
            "5\n",
            "4\n",
            "3\n",
            "2\n",
            "1\n",
            "0\n"
          ]
        }
      ]
    },
    {
      "cell_type": "markdown",
      "metadata": {
        "id": "YcrPj7TBrFXH"
      },
      "source": [
        "<h2> Exercício 1 </h2>\n",
        "\n",
        "Some os números ímpares consecutivos começando em 1 e terminando 9"
      ]
    },
    {
      "cell_type": "code",
      "metadata": {
        "colab": {
          "base_uri": "https://localhost:8080/"
        },
        "id": "0jF7VQL1rFCG",
        "outputId": "c76cfeb8-16a7-48b9-836a-85faebef5b1d"
      },
      "source": [
        "passo = range(1,23+1,2)\n",
        "soma = 0\n",
        "\n",
        "for i in passo:\n",
        "  soma = soma + i\n",
        "  print('i = {}, soma = {}'.format(i,soma))\n",
        "print(soma)"
      ],
      "execution_count": null,
      "outputs": [
        {
          "output_type": "stream",
          "name": "stdout",
          "text": [
            "i = 1, soma = 1\n",
            "i = 3, soma = 4\n",
            "i = 5, soma = 9\n",
            "i = 7, soma = 16\n",
            "i = 9, soma = 25\n",
            "i = 11, soma = 36\n",
            "i = 13, soma = 49\n",
            "i = 15, soma = 64\n",
            "i = 17, soma = 81\n",
            "i = 19, soma = 100\n",
            "i = 21, soma = 121\n",
            "i = 23, soma = 144\n",
            "144\n"
          ]
        }
      ]
    },
    {
      "cell_type": "markdown",
      "metadata": {
        "id": "L7qgdtWCrlcE"
      },
      "source": [
        "### Cálculos incrementais\n",
        "\n",
        "Em **Python**, assim como muitas outras linguagens de programação, existe uma maneira simplifica de fazer cálculos incrementais"
      ]
    },
    {
      "cell_type": "markdown",
      "metadata": {
        "id": "yegI_mlDrzsS"
      },
      "source": [
        "<h2> Estrutura dos cálculos incrementais </h2>\n",
        "\n",
        "> soma = soma + 1 -> `soma += 1` <br>\n",
        "soma = soma + 5 -> `soma += 5` <br>\n",
        "soma = soma - 1 -> `soma -= 1` <br>\n",
        "soma = soma - 5 -> `soma -= 5` <br>\n",
        "soma = soma * 2 -> `soma *= 2`\n",
        "\n",
        "<h3> Resumo </h3>\n",
        "\n",
        ">anterior `+=` incremento <br>\n",
        "anterior `-=` incremento <br>\n",
        "anterior `*=` incremento <br>\n",
        "anterior `/=` incremento <br>\n",
        "\n",
        "<h3> Exemplo 1 </h3>\n",
        "\n",
        "Começando pelo número 1, some 1 a ele 10 vezes consecutivas"
      ]
    },
    {
      "cell_type": "code",
      "metadata": {
        "colab": {
          "base_uri": "https://localhost:8080/"
        },
        "id": "Aa2cGd7cUDjn",
        "outputId": "458c086e-e7b3-4b71-aa20-5d827ef0a1c6"
      },
      "source": [
        "soma = 1\n",
        "passo = range(1,10+1)\n",
        "\n",
        "for i in passo:\n",
        "  #soma = soma + 1\n",
        "  soma += 3\n",
        "print(soma)"
      ],
      "execution_count": null,
      "outputs": [
        {
          "output_type": "stream",
          "name": "stdout",
          "text": [
            "31\n"
          ]
        }
      ]
    },
    {
      "cell_type": "code",
      "metadata": {
        "colab": {
          "base_uri": "https://localhost:8080/"
        },
        "id": "9ZBPCCGdt9DI",
        "outputId": "a2ade906-fda0-4a83-d686-43e6c88e69c1"
      },
      "source": [
        "soma = 1\n",
        "passo = range(1,10+1)\n",
        "\n",
        "for i in passo:\n",
        "  soma += 1\n",
        "print(soma)"
      ],
      "execution_count": null,
      "outputs": [
        {
          "output_type": "stream",
          "name": "stdout",
          "text": [
            "11\n"
          ]
        }
      ]
    },
    {
      "cell_type": "markdown",
      "metadata": {
        "id": "iZSTFDOVuM4A"
      },
      "source": [
        "<h3> Exemplo 2 </h3>\n",
        "\n",
        "Começando pelo número 2, multiplique ele por 2 nove vezes consecutivas"
      ]
    },
    {
      "cell_type": "code",
      "metadata": {
        "colab": {
          "base_uri": "https://localhost:8080/"
        },
        "id": "7lToFZCzuSpB",
        "outputId": "5d9cde4e-ada3-414c-ffe1-6e7fe3fd2f0f"
      },
      "source": [
        "mult = 2\n",
        "passo = range(1,9+1)\n",
        "\n",
        "for i in passo:\n",
        "  #mult = mult*2\n",
        "  mult *= 2\n",
        "  print('i = {}, mult {}'.format(i,mult))\n"
      ],
      "execution_count": null,
      "outputs": [
        {
          "output_type": "stream",
          "name": "stdout",
          "text": [
            "i = 1, mult 4\n",
            "i = 2, mult 8\n",
            "i = 3, mult 16\n",
            "i = 4, mult 32\n",
            "i = 5, mult 64\n",
            "i = 6, mult 128\n",
            "i = 7, mult 256\n",
            "i = 8, mult 512\n",
            "i = 9, mult 1024\n"
          ]
        }
      ]
    },
    {
      "cell_type": "markdown",
      "metadata": {
        "id": "NEC83LINu4Hn"
      },
      "source": [
        "<h2> Exercício 1 </h2>\n",
        "\n",
        "Tire a média de 3 números digitados pelo usuário."
      ]
    },
    {
      "cell_type": "code",
      "metadata": {
        "colab": {
          "base_uri": "https://localhost:8080/"
        },
        "id": "T0sHws0PvBfO",
        "outputId": "63d288df-c0d9-49fd-cabd-0ec5e1a16ec1"
      },
      "source": [
        "passo = range(1,3+1)\n",
        "soma = 0\n",
        "\n",
        "for i in passo:\n",
        "  n = float(input('Digite o {}º número: '.format(i)))\n",
        "  soma += n\n",
        "  print('i = {}, soma = {}'.format(i,soma))\n",
        "media = soma / i\n",
        "print('a média é de: {}'.format(media))"
      ],
      "execution_count": null,
      "outputs": [
        {
          "output_type": "stream",
          "name": "stdout",
          "text": [
            "Digite o 1º número: 6\n",
            "i = 1, soma = 6.0\n",
            "Digite o 2º número: 6\n",
            "i = 2, soma = 12.0\n",
            "Digite o 3º número: 6\n",
            "i = 3, soma = 18.0\n",
            "a média é de: 6.0\n"
          ]
        }
      ]
    },
    {
      "cell_type": "markdown",
      "metadata": {
        "id": "8jvwLnRDvp90"
      },
      "source": [
        "<h2> Exercício 2 </h2>\n",
        "\n",
        "1. Pergunte para o usuário de quantos números ele quer tirar a média\n",
        "2. Tire a média desses números"
      ]
    },
    {
      "cell_type": "code",
      "metadata": {
        "colab": {
          "base_uri": "https://localhost:8080/"
        },
        "id": "qyVZh-mOvymM",
        "outputId": "7bcaaff8-103b-4576-8f8f-2c247bd2c40b"
      },
      "source": [
        "qtd = int(input(\"quantos números você quer tirar a média? \"))\n",
        "passo = range(1, qtd + 1)\n",
        "soma = 0\n",
        "\n",
        "for i in passo:\n",
        "  n = float(input('Digite o {}º número'.format(i)))\n",
        "  soma += n\n",
        "media = soma / i\n",
        "print('A média deu de: {}'.format(media))"
      ],
      "execution_count": null,
      "outputs": [
        {
          "output_type": "stream",
          "name": "stdout",
          "text": [
            "quantos números você quer tirar a média? 2\n",
            "Digite o 1º número24\n",
            "Digite o 2º número36\n",
            "A média deu de: 30.0\n"
          ]
        }
      ]
    },
    {
      "cell_type": "markdown",
      "metadata": {
        "id": "-ZBojQytwSYF"
      },
      "source": [
        "## while\n",
        "\n",
        "Como já vimos, o for é uma estrutura de repetição que possui um começo e um fim bem determinados.\n",
        "\n",
        "Quando não sabemos onde termina um loop precisamos usar outros métodos."
      ]
    },
    {
      "cell_type": "markdown",
      "metadata": {
        "id": "HOC31j9Nwi55"
      },
      "source": [
        "O while será executado até sua condição inicial não ser mais verdade.\n",
        "\n",
        "<h2> Estrutura </h2>\n",
        "\n",
        "```\n",
        "while True:\n",
        "\tprint('Execute a ação')\n",
        "```\n",
        "\n",
        "Devido a essa estrutura precisamos ter uma variável de controle e ela precisa ser modificada dentro do loop para não ficarmos presos num looping infinito.\n",
        "\n",
        "```\n",
        "fim = False\n",
        "while fim == False:\n",
        "  print('Execute a ação')\n",
        "  fim = bool(input(‘Terminou?’))\n",
        "print('Fim')\n",
        "```\n",
        "\n",
        "<h3> Exemplo 1 </h3>\n",
        "\n",
        "Quero ler um capítulo de um livro mas não sei quantas páginas possui este capítulo"
      ]
    },
    {
      "cell_type": "code",
      "metadata": {
        "colab": {
          "base_uri": "https://localhost:8080/"
        },
        "id": "y9GWqxsZxw89",
        "outputId": "1e70850b-4e83-43e4-e102-0395bf3c7857"
      },
      "source": [
        "fim = 'n'\n",
        "\n",
        "while fim == 'n':\n",
        "  print('Leia página')\n",
        "  fim = input('Terminou o capítulo? (s/n) ')\n",
        "print('FIM')"
      ],
      "execution_count": null,
      "outputs": [
        {
          "output_type": "stream",
          "name": "stdout",
          "text": [
            "Leia página\n",
            "Terminou o capítulo? (s/n) n\n",
            "Leia página\n",
            "Terminou o capítulo? (s/n) n\n",
            "Leia página\n",
            "Terminou o capítulo? (s/n) s\n",
            "FIM\n"
          ]
        }
      ]
    },
    {
      "cell_type": "markdown",
      "metadata": {
        "id": "LIQpYSB4zMOO"
      },
      "source": [
        "<h3> Exemplo 2 </h3>\n",
        "\n",
        "Começando pelo número 1, some 1 a ele 10 vezes consecutivas"
      ]
    },
    {
      "cell_type": "code",
      "metadata": {
        "colab": {
          "base_uri": "https://localhost:8080/"
        },
        "id": "_EqecwHrzcUt",
        "outputId": "102dad4b-d7d3-4645-d3c0-d7852df3ebd8"
      },
      "source": [
        "soma = 1\n",
        "i = 1\n",
        "\n",
        "while i < 10:\n",
        "  i += 1  #quantos passos dou\n",
        "  soma += 1\n",
        "  print(soma)"
      ],
      "execution_count": null,
      "outputs": [
        {
          "output_type": "stream",
          "name": "stdout",
          "text": [
            "2\n",
            "3\n",
            "4\n",
            "5\n",
            "6\n",
            "7\n",
            "8\n",
            "9\n",
            "10\n"
          ]
        }
      ]
    },
    {
      "cell_type": "markdown",
      "metadata": {
        "id": "gxWv1g3Tz164"
      },
      "source": [
        "<h2> Exercício 1 </h2>\n",
        "\n",
        "Some números digitados pelo usuário até a soma deles ultrapassar 20"
      ]
    },
    {
      "cell_type": "code",
      "metadata": {
        "colab": {
          "base_uri": "https://localhost:8080/"
        },
        "id": "E-TiRxTaz-hF",
        "outputId": "94d68423-0440-4ab4-8f4d-b1542822d032"
      },
      "source": [
        "soma = 0\n",
        "\n",
        "while soma < 20:\n",
        "  n = int(input('Digite o número: '))\n",
        "  soma += n\n",
        "print(soma)"
      ],
      "execution_count": null,
      "outputs": [
        {
          "output_type": "stream",
          "name": "stdout",
          "text": [
            "Digite o número: -5\n",
            "Digite o número: 10\n",
            "Digite o número: 15\n",
            "20\n"
          ]
        }
      ]
    },
    {
      "cell_type": "markdown",
      "metadata": {
        "id": "Pph_TU7M0-th"
      },
      "source": [
        "## break\n",
        "\n",
        "O comando break é utilizado para sairmos de um loop em qualquer momento. Ele é muito utilizado quando:\n",
        "\n",
        "* Já atingimos o objetivo\n",
        "* O usuário pediu para parar o loop"
      ]
    },
    {
      "cell_type": "markdown",
      "metadata": {
        "id": "lyRv_8M11uHk"
      },
      "source": [
        "Já que ele sempre finaliza o looping no exato ponto que ele estava ele geralmente é utilizado junto com o comando `if` para testar se precisamos ou não parar o looping.\n",
        "\n",
        "<h3> Exemplo de looping infinito </h3>\n",
        "\n",
        "Some os números que o usuário digitar"
      ]
    },
    {
      "cell_type": "code",
      "metadata": {
        "colab": {
          "base_uri": "https://localhost:8080/",
          "height": 477
        },
        "id": "lLtlAjr12LC2",
        "outputId": "10e5a9f2-faac-4e78-97f7-560c3c2db664"
      },
      "source": [
        "soma = 0\n",
        "\n",
        "while True:\n",
        "  n = float(input('Digite um valor: '))\n",
        "  soma += n\n",
        "print(soma)"
      ],
      "execution_count": null,
      "outputs": [
        {
          "name": "stdout",
          "output_type": "stream",
          "text": [
            "Digite um valor: 1\n",
            "Digite um valor: 2\n",
            "Digite um valor: 10\n",
            "Digite um valor: 100\n",
            "Digite um valor: 30\n"
          ]
        },
        {
          "output_type": "error",
          "ename": "KeyboardInterrupt",
          "evalue": "ignored",
          "traceback": [
            "\u001b[0;31m---------------------------------------------------------------------------\u001b[0m",
            "\u001b[0;31mKeyboardInterrupt\u001b[0m                         Traceback (most recent call last)",
            "\u001b[0;32m<ipython-input-14-cf5858866675>\u001b[0m in \u001b[0;36m<cell line: 3>\u001b[0;34m()\u001b[0m\n\u001b[1;32m      2\u001b[0m \u001b[0;34m\u001b[0m\u001b[0m\n\u001b[1;32m      3\u001b[0m \u001b[0;32mwhile\u001b[0m \u001b[0;32mTrue\u001b[0m\u001b[0;34m:\u001b[0m\u001b[0;34m\u001b[0m\u001b[0;34m\u001b[0m\u001b[0m\n\u001b[0;32m----> 4\u001b[0;31m   \u001b[0mn\u001b[0m \u001b[0;34m=\u001b[0m \u001b[0mfloat\u001b[0m\u001b[0;34m(\u001b[0m\u001b[0minput\u001b[0m\u001b[0;34m(\u001b[0m\u001b[0;34m'Digite um valor: '\u001b[0m\u001b[0;34m)\u001b[0m\u001b[0;34m)\u001b[0m\u001b[0;34m\u001b[0m\u001b[0;34m\u001b[0m\u001b[0m\n\u001b[0m\u001b[1;32m      5\u001b[0m   \u001b[0msoma\u001b[0m \u001b[0;34m+=\u001b[0m \u001b[0mn\u001b[0m\u001b[0;34m\u001b[0m\u001b[0;34m\u001b[0m\u001b[0m\n\u001b[1;32m      6\u001b[0m \u001b[0mprint\u001b[0m\u001b[0;34m(\u001b[0m\u001b[0msoma\u001b[0m\u001b[0;34m)\u001b[0m\u001b[0;34m\u001b[0m\u001b[0;34m\u001b[0m\u001b[0m\n",
            "\u001b[0;32m/usr/local/lib/python3.10/dist-packages/ipykernel/kernelbase.py\u001b[0m in \u001b[0;36mraw_input\u001b[0;34m(self, prompt)\u001b[0m\n\u001b[1;32m    849\u001b[0m                 \u001b[0;34m\"raw_input was called, but this frontend does not support input requests.\"\u001b[0m\u001b[0;34m\u001b[0m\u001b[0;34m\u001b[0m\u001b[0m\n\u001b[1;32m    850\u001b[0m             )\n\u001b[0;32m--> 851\u001b[0;31m         return self._input_request(str(prompt),\n\u001b[0m\u001b[1;32m    852\u001b[0m             \u001b[0mself\u001b[0m\u001b[0;34m.\u001b[0m\u001b[0m_parent_ident\u001b[0m\u001b[0;34m,\u001b[0m\u001b[0;34m\u001b[0m\u001b[0;34m\u001b[0m\u001b[0m\n\u001b[1;32m    853\u001b[0m             \u001b[0mself\u001b[0m\u001b[0;34m.\u001b[0m\u001b[0m_parent_header\u001b[0m\u001b[0;34m,\u001b[0m\u001b[0;34m\u001b[0m\u001b[0;34m\u001b[0m\u001b[0m\n",
            "\u001b[0;32m/usr/local/lib/python3.10/dist-packages/ipykernel/kernelbase.py\u001b[0m in \u001b[0;36m_input_request\u001b[0;34m(self, prompt, ident, parent, password)\u001b[0m\n\u001b[1;32m    893\u001b[0m             \u001b[0;32mexcept\u001b[0m \u001b[0mKeyboardInterrupt\u001b[0m\u001b[0;34m:\u001b[0m\u001b[0;34m\u001b[0m\u001b[0;34m\u001b[0m\u001b[0m\n\u001b[1;32m    894\u001b[0m                 \u001b[0;31m# re-raise KeyboardInterrupt, to truncate traceback\u001b[0m\u001b[0;34m\u001b[0m\u001b[0;34m\u001b[0m\u001b[0m\n\u001b[0;32m--> 895\u001b[0;31m                 \u001b[0;32mraise\u001b[0m \u001b[0mKeyboardInterrupt\u001b[0m\u001b[0;34m(\u001b[0m\u001b[0;34m\"Interrupted by user\"\u001b[0m\u001b[0;34m)\u001b[0m \u001b[0;32mfrom\u001b[0m \u001b[0;32mNone\u001b[0m\u001b[0;34m\u001b[0m\u001b[0;34m\u001b[0m\u001b[0m\n\u001b[0m\u001b[1;32m    896\u001b[0m             \u001b[0;32mexcept\u001b[0m \u001b[0mException\u001b[0m \u001b[0;32mas\u001b[0m \u001b[0me\u001b[0m\u001b[0;34m:\u001b[0m\u001b[0;34m\u001b[0m\u001b[0;34m\u001b[0m\u001b[0m\n\u001b[1;32m    897\u001b[0m                 \u001b[0mself\u001b[0m\u001b[0;34m.\u001b[0m\u001b[0mlog\u001b[0m\u001b[0;34m.\u001b[0m\u001b[0mwarning\u001b[0m\u001b[0;34m(\u001b[0m\u001b[0;34m\"Invalid Message:\"\u001b[0m\u001b[0;34m,\u001b[0m \u001b[0mexc_info\u001b[0m\u001b[0;34m=\u001b[0m\u001b[0;32mTrue\u001b[0m\u001b[0;34m)\u001b[0m\u001b[0;34m\u001b[0m\u001b[0;34m\u001b[0m\u001b[0m\n",
            "\u001b[0;31mKeyboardInterrupt\u001b[0m: Interrupted by user"
          ]
        }
      ]
    },
    {
      "cell_type": "markdown",
      "metadata": {
        "id": "FfX4YbP23BmW"
      },
      "source": [
        "<h3> Exemplo de looping infinito corrigido </h3>\n",
        "\n",
        "Some os números que o usuário digitar até ele pedir para parar."
      ]
    },
    {
      "cell_type": "code",
      "metadata": {
        "id": "Y45Jr5Rj3HB7",
        "colab": {
          "base_uri": "https://localhost:8080/"
        },
        "outputId": "a9a6198b-214f-49be-eb1e-1cb0af783e7a"
      },
      "source": [
        "soma = 0\n",
        "\n",
        "while True:\n",
        "  n = int(input('Digite um valor: '))\n",
        "  soma += n\n",
        "  continua = input('Você quer continuar? (s/n) ')\n",
        "  if continua == 'n':\n",
        "    break\n",
        "  print('depois do break')\n",
        "print(soma)\n"
      ],
      "execution_count": null,
      "outputs": [
        {
          "output_type": "stream",
          "name": "stdout",
          "text": [
            "Digite um valor: 5\n",
            "Você quer continuar? (s/n) s\n",
            "depois do break\n",
            "Digite um valor: 6\n",
            "Você quer continuar? (s/n) s\n",
            "depois do break\n",
            "Digite um valor: 90\n",
            "Você quer continuar? (s/n) n\n",
            "101\n"
          ]
        }
      ]
    },
    {
      "cell_type": "markdown",
      "metadata": {
        "id": "pEZA9oC33OA-"
      },
      "source": [
        "<h3> Exemplo 1 </h3>\n",
        "\n",
        "Peça para o usuário digitar um número. Valide o que ele digitou, caso não seja um número, peça pra ele digitar de novo."
      ]
    },
    {
      "cell_type": "code",
      "metadata": {
        "colab": {
          "base_uri": "https://localhost:8080/"
        },
        "id": "pOUKQ1a03Nf-",
        "outputId": "b5a37322-c0ed-49f1-ae30-dc01f07e2920"
      },
      "source": [
        "while True:\n",
        "  num = input('Digite um número: ')\n",
        "  if num.isnumeric() == True:\n",
        "    print('Você digitou um numero válido')\n",
        "    break\n",
        "  print('Você não digitou um número válido')\n",
        "print('FIM')"
      ],
      "execution_count": null,
      "outputs": [
        {
          "output_type": "stream",
          "name": "stdout",
          "text": [
            "Digite um número: s\n",
            "Você não digitou um número válido\n",
            "Digite um número: E\n",
            "Você não digitou um número válido\n",
            "Digite um número: 8\n",
            "Você digitou um numero válido\n",
            "FIM\n"
          ]
        }
      ]
    },
    {
      "cell_type": "markdown",
      "metadata": {
        "id": "IVcUZJbq5p1d"
      },
      "source": [
        "<h3> Exemplo 2 </h3>\n",
        "\n",
        "Faça um programa que calcula a média de valores digitados pelo usuário até o usuário pedir para parar de inserir números"
      ]
    },
    {
      "cell_type": "code",
      "metadata": {
        "colab": {
          "base_uri": "https://localhost:8080/"
        },
        "id": "vA44FzlW6zJJ",
        "outputId": "3875ce29-f58d-4745-e119-efa2e79b05c0"
      },
      "source": [
        "soma = 0\n",
        "i = 0\n",
        "\n",
        "while True:\n",
        "  i += 1\n",
        "  num = float(input('Digite um número: '))\n",
        "  soma += num\n",
        "  continua = input('você quer continuar? (s/n) ')\n",
        "  if continua == 'n':\n",
        "    break\n",
        "media = soma / i\n",
        "print('Você digitou {} numeros, e a média é de {}'.format(i, media))"
      ],
      "execution_count": null,
      "outputs": [
        {
          "output_type": "stream",
          "name": "stdout",
          "text": [
            "Digite um número: 1\n",
            "você quer continuar? (s/n) s\n",
            "Digite um número: 10\n",
            "você quer continuar? (s/n) s\n",
            "Digite um número: 30\n",
            "você quer continuar? (s/n) s\n",
            "Digite um número: 9\n",
            "você quer continuar? (s/n) n\n",
            "Você digitou 4 numeros, e a média é de 12.5\n"
          ]
        }
      ]
    },
    {
      "cell_type": "markdown",
      "metadata": {
        "id": "oNPzq_Ei73gy"
      },
      "source": [
        "# Exercícios"
      ]
    },
    {
      "cell_type": "markdown",
      "metadata": {
        "id": "aSawlb7J8wXc"
      },
      "source": [
        "<h2> Exercício 1 </h2>\n",
        "\n",
        "Faça um programa que calcula a tabuada do número digitado pelo usuário."
      ]
    },
    {
      "cell_type": "code",
      "metadata": {
        "id": "QPYS_FtJ8-3g",
        "colab": {
          "base_uri": "https://localhost:8080/"
        },
        "outputId": "c1d211e6-b925-48ba-a596-79218d966c80"
      },
      "source": [
        "#Tabuada de Multiplicação ( de 0 a 10)\n",
        "num = int(input('Digite o número da Tabuada: '))\n",
        "\n",
        "for i in range(0, 10+1):\n",
        " print(num, '*', i, '=', num*i)"
      ],
      "execution_count": null,
      "outputs": [
        {
          "output_type": "stream",
          "name": "stdout",
          "text": [
            "Digite o número da Tabuada: 4\n",
            "4 * 0 = 0\n",
            "4 * 1 = 4\n",
            "4 * 2 = 8\n",
            "4 * 3 = 12\n",
            "4 * 4 = 16\n",
            "4 * 5 = 20\n",
            "4 * 6 = 24\n",
            "4 * 7 = 28\n",
            "4 * 8 = 32\n",
            "4 * 9 = 36\n",
            "4 * 10 = 40\n"
          ]
        }
      ]
    },
    {
      "cell_type": "markdown",
      "metadata": {
        "id": "_rBeqxIV8Rvx"
      },
      "source": [
        "<h2> Exercício 2\n",
        "\n",
        "Faça um programa que o usuário irá digitar 10 números e você irá mostrar:\n",
        "\n",
        "* Qual foi o menor valor\n",
        "* Qual foi o maior valor\n",
        "* Qual a média dos valores"
      ]
    },
    {
      "cell_type": "code",
      "metadata": {
        "id": "32TsqDVn8RVT",
        "colab": {
          "base_uri": "https://localhost:8080/"
        },
        "outputId": "1dade44b-3b90-48c8-9cca-5d1d88153f0d"
      },
      "source": [
        "# Define a função:\n",
        "def exercicio():\n",
        "\n",
        "    # Lista com os números lidos:\n",
        "    numeros = []\n",
        "\n",
        "    # Lê o primeiro número, garantindo que não seja zero:\n",
        "    numero = 0\n",
        "    while numero == 0:\n",
        "        numero = int(input(\"Entre com o 1º número: \"))\n",
        "        if numero == 0:\n",
        "            print(\"O 1º número não pode ser zero.\")\n",
        "    numeros.append(numero)\n",
        "\n",
        "    # Lê os outros nove números:\n",
        "    for i in range(9):\n",
        "        numero = int(input(\"Entre com o %dº número: \" % (i+2)))\n",
        "        numeros.append(numero)\n",
        "\n",
        "    # Obtém o menor valor e exibe-o na tela:\n",
        "    menor = min(numeros)\n",
        "    print(\"O menor valor é\", menor)\n",
        "\n",
        "    # Obtém o maior valor e exibe-o na tela:\n",
        "    maior = max(numeros)\n",
        "    print(\"O maior valor é\", maior)\n",
        "\n",
        "    # Obtém a média dos valores e exibe-a na tela:\n",
        "    media = sum(numeros)/10\n",
        "    print(\"A média dos valores é\", media)\n",
        "\n",
        "# Chama a função definida:\n",
        "exercicio()"
      ],
      "execution_count": null,
      "outputs": [
        {
          "output_type": "stream",
          "name": "stdout",
          "text": [
            "Entre com o 1º número: 1\n",
            "Entre com o 2º número: 2\n",
            "Entre com o 3º número: 3\n",
            "Entre com o 4º número: 4\n",
            "Entre com o 5º número: 5\n",
            "Entre com o 6º número: 6\n",
            "Entre com o 7º número: 7\n",
            "Entre com o 8º número: 8\n",
            "Entre com o 9º número: 9\n",
            "Entre com o 10º número: 10\n",
            "O menor valor é 1\n",
            "O maior valor é 10\n",
            "A média dos valores é 5.5\n"
          ]
        }
      ]
    },
    {
      "cell_type": "markdown",
      "metadata": {
        "id": "RDgwAZQF75-i"
      },
      "source": [
        "<h2> Exercício 3 </h2>\n",
        "\n",
        "Faça um programa que calcula a Sequência de Fibonacci de N números, onde N é dado pelo usuário.\n",
        "\n",
        "Essa sequência é construída começando com os números 0 e 1. O próximo número da sequência é sempre a soma dos 2 anteriores.\n",
        "\n",
        "Sequência: 0 - 1 - 1 - 2 - 3 - 5 - 8 - 13 - 21 - ..."
      ]
    },
    {
      "cell_type": "code",
      "metadata": {
        "id": "bCusX8Iy8v_e",
        "colab": {
          "base_uri": "https://localhost:8080/"
        },
        "outputId": "b05d7cbf-1af2-461e-bde0-431401e324a6"
      },
      "source": [
        "print (\" Trabalho de Fibonacci \")\n",
        "n =int( input(\" Digite Quantos termos você deseja :\"))\n",
        "t1 = 0\n",
        "t2 = 1\n",
        "\n",
        "cont = 0\n",
        "print(\"{} - {} - \".format(t1,t2), end=\"\")\n",
        "while cont <= n:\n",
        "    t3 = t2 + t1\n",
        "    t1 = t2\n",
        "    t2 = t3\n",
        "    cont += 1\n",
        "\n",
        "    print(\"{} - \".format(t3), end=\"\")\n",
        "print( \" Mostrou a sequencia dos {} termos após o terceiro termo da Sequencia de Fibonacci! \".format(n))"
      ],
      "execution_count": null,
      "outputs": [
        {
          "output_type": "stream",
          "name": "stdout",
          "text": [
            " Trabalho de Fibonacci \n",
            " Digite Quantos termos você deseja :10\n",
            "0 - 1 - 1 - 2 - 3 - 5 - 8 - 13 - 21 - 34 - 55 - 89 - 144 -  Mostrou a sequencia dos 10 termos após o terceiro termo da Sequencia de Fibonacci! \n"
          ]
        }
      ]
    }
  ]
}